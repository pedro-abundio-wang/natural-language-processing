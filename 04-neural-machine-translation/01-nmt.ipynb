{
 "cells": [
  {
   "cell_type": "markdown",
   "metadata": {},
   "source": [
    "# Neural Machine Translation with RNNs"
   ]
  },
  {
   "cell_type": "markdown",
   "metadata": {},
   "source": [
    "![](imgs/nmt.png)\n",
    "![](imgs/nmt-detail.png)"
   ]
  },
  {
   "cell_type": "markdown",
   "metadata": {},
   "source": [
    "![](imgs/padding.png)\n",
    "![](imgs/mask.png)\n",
    "![](imgs/run.png)"
   ]
  },
  {
   "cell_type": "code",
   "execution_count": 40,
   "metadata": {},
   "outputs": [
    {
     "name": "stdout",
     "output_type": "stream",
     "text": [
      "Running Sanity Check for Question 1d: Encode\r\n",
      "--------------------------------------------------------------------------------\r\n",
      "enc_hiddens Sanity Checks Passed!\r\n",
      "dec_init_state[0] Sanity Checks Passed!\r\n",
      "dec_init_state[1] Sanity Checks Passed!\r\n",
      "--------------------------------------------------------------------------------\r\n",
      "All Sanity Checks Passed for Question 1d: Encode!\r\n",
      "--------------------------------------------------------------------------------\r\n"
     ]
    }
   ],
   "source": [
    "!python sanity_check.py 1d"
   ]
  },
  {
   "cell_type": "code",
   "execution_count": 44,
   "metadata": {},
   "outputs": [
    {
     "name": "stdout",
     "output_type": "stream",
     "text": [
      "--------------------------------------------------------------------------------\n",
      "Running Sanity Check for Question 1e: Decode\n",
      "--------------------------------------------------------------------------------\n",
      "combined_outputs Sanity Checks Passed!\n",
      "--------------------------------------------------------------------------------\n",
      "All Sanity Checks Passed for Question 1e: Decode!\n",
      "--------------------------------------------------------------------------------\n"
     ]
    }
   ],
   "source": [
    "!python sanity_check.py 1e"
   ]
  },
  {
   "cell_type": "code",
   "execution_count": 61,
   "metadata": {},
   "outputs": [
    {
     "name": "stdout",
     "output_type": "stream",
     "text": [
      "--------------------------------------------------------------------------------\n",
      "Running Sanity Check for Question 1f: Step\n",
      "--------------------------------------------------------------------------------\n",
      "/tmp/pip-req-build-vxpey3tb/aten/src/ATen/native/LegacyDefinitions.cpp:19: UserWarning: masked_fill_ received a mask with dtype torch.uint8, this behavior is now deprecated,please use a mask with dtype torch.bool instead.\n",
      "dec_state[0] Sanity Checks Passed!\n",
      "dec_state[1] Sanity Checks Passed!\n",
      "combined_output  Sanity Checks Passed!\n",
      "e_t Sanity Checks Passed!\n",
      "--------------------------------------------------------------------------------\n",
      "All Sanity Checks Passed for Question 1f: Step!\n",
      "--------------------------------------------------------------------------------\n"
     ]
    }
   ],
   "source": [
    "!python sanity_check.py 1f"
   ]
  },
  {
   "cell_type": "code",
   "execution_count": 62,
   "metadata": {},
   "outputs": [
    {
     "name": "stdout",
     "output_type": "stream",
     "text": [
      "read in source sentences: ./en_es_data/train.es\n",
      "read in target sentences: ./en_es_data/train.en\n",
      "initialize source vocabulary ..\n",
      "number of word types: 172418, number of word types w/ frequency >= 2: 80623\n",
      "initialize target vocabulary ..\n",
      "number of word types: 128873, number of word types w/ frequency >= 2: 64215\n",
      "generated vocabulary, source 50004 words, target 50002 words\n",
      "vocabulary saved to vocab.json\n"
     ]
    }
   ],
   "source": [
    "!sh run.sh vocab"
   ]
  },
  {
   "cell_type": "code",
   "execution_count": 2,
   "metadata": {
    "scrolled": true
   },
   "outputs": [
    {
     "name": "stdout",
     "output_type": "stream",
     "text": [
      "uniformly initialize parameters [-0.100000, +0.100000]\n",
      "use device: cpu\n",
      "begin Maximum Likelihood training\n",
      "epoch 1, iter 10, avg. loss 166.78, avg. ppl 22912.38 cum. examples 320, speed 294.17 words/sec, time elapsed 18.07 sec\n",
      "epoch 1, iter 20, avg. loss 141.61, avg. ppl 3050.35 cum. examples 640, speed 302.66 words/sec, time elapsed 36.73 sec\n",
      "epoch 1, iter 30, avg. loss 138.30, avg. ppl 1816.86 cum. examples 960, speed 301.27 words/sec, time elapsed 56.31 sec\n",
      "epoch 1, iter 40, avg. loss 131.23, avg. ppl 1716.74 cum. examples 1280, speed 262.02 words/sec, time elapsed 77.82 sec\n",
      "epoch 1, iter 50, avg. loss 131.90, avg. ppl 1512.59 cum. examples 1600, speed 311.45 words/sec, time elapsed 96.33 sec\n",
      "epoch 1, iter 60, avg. loss 126.80, avg. ppl 1338.81 cum. examples 1920, speed 286.85 words/sec, time elapsed 115.98 sec\n",
      "epoch 1, iter 70, avg. loss 117.09, avg. ppl 1252.08 cum. examples 2240, speed 272.23 words/sec, time elapsed 135.28 sec\n",
      "epoch 1, iter 80, avg. loss 132.80, avg. ppl 1203.78 cum. examples 2560, speed 283.79 words/sec, time elapsed 156.39 sec\n",
      "epoch 1, iter 90, avg. loss 122.39, avg. ppl 1124.59 cum. examples 2880, speed 274.45 words/sec, time elapsed 176.70 sec\n",
      "epoch 1, iter 100, avg. loss 117.84, avg. ppl 1085.52 cum. examples 3200, speed 218.87 words/sec, time elapsed 201.35 sec\n",
      "epoch 1, iter 110, avg. loss 118.09, avg. ppl 1056.63 cum. examples 3520, speed 214.37 words/sec, time elapsed 226.67 sec\n",
      "epoch 1, iter 120, avg. loss 115.49, avg. ppl 990.78 cum. examples 3840, speed 222.15 words/sec, time elapsed 250.78 sec\n",
      "epoch 1, iter 130, avg. loss 118.59, avg. ppl 904.15 cum. examples 4160, speed 239.61 words/sec, time elapsed 274.05 sec\n",
      "epoch 1, iter 140, avg. loss 119.31, avg. ppl 937.82 cum. examples 4480, speed 247.30 words/sec, time elapsed 296.61 sec\n",
      "epoch 1, iter 150, avg. loss 118.59, avg. ppl 836.99 cum. examples 4800, speed 276.93 words/sec, time elapsed 316.97 sec\n",
      "epoch 1, iter 160, avg. loss 113.65, avg. ppl 847.35 cum. examples 5120, speed 264.61 words/sec, time elapsed 337.36 sec\n",
      "epoch 1, iter 170, avg. loss 122.12, avg. ppl 863.35 cum. examples 5440, speed 305.13 words/sec, time elapsed 356.30 sec\n",
      "epoch 1, iter 180, avg. loss 120.45, avg. ppl 818.02 cum. examples 5760, speed 274.47 words/sec, time elapsed 377.24 sec\n",
      "epoch 1, iter 190, avg. loss 113.68, avg. ppl 796.23 cum. examples 6080, speed 276.98 words/sec, time elapsed 396.90 sec\n",
      "epoch 1, iter 200, avg. loss 113.82, avg. ppl 714.12 cum. examples 6400, speed 265.23 words/sec, time elapsed 417.80 sec\n",
      "epoch 1, iter 210, avg. loss 120.83, avg. ppl 795.78 cum. examples 6720, speed 289.95 words/sec, time elapsed 437.77 sec\n",
      "epoch 1, iter 220, avg. loss 117.19, avg. ppl 675.86 cum. examples 7040, speed 281.72 words/sec, time elapsed 458.19 sec\n",
      "epoch 1, iter 230, avg. loss 116.13, avg. ppl 766.63 cum. examples 7360, speed 258.35 words/sec, time elapsed 479.85 sec\n",
      "epoch 1, iter 240, avg. loss 117.91, avg. ppl 663.49 cum. examples 7680, speed 304.26 words/sec, time elapsed 498.94 sec\n",
      "epoch 1, iter 250, avg. loss 109.94, avg. ppl 597.80 cum. examples 8000, speed 270.34 words/sec, time elapsed 519.29 sec\n",
      "epoch 1, iter 260, avg. loss 116.61, avg. ppl 635.58 cum. examples 8320, speed 251.50 words/sec, time elapsed 542.28 sec\n",
      "epoch 1, iter 270, avg. loss 114.22, avg. ppl 666.15 cum. examples 8640, speed 282.60 words/sec, time elapsed 562.17 sec\n",
      "epoch 1, iter 280, avg. loss 117.16, avg. ppl 654.75 cum. examples 8960, speed 253.94 words/sec, time elapsed 584.94 sec\n",
      "epoch 1, iter 290, avg. loss 109.79, avg. ppl 591.09 cum. examples 9280, speed 255.66 words/sec, time elapsed 606.47 sec\n",
      "epoch 1, iter 300, avg. loss 108.47, avg. ppl 610.69 cum. examples 9600, speed 258.08 words/sec, time elapsed 627.44 sec\n",
      "epoch 1, iter 310, avg. loss 116.77, avg. ppl 568.43 cum. examples 9920, speed 268.39 words/sec, time elapsed 649.39 sec\n",
      "epoch 1, iter 320, avg. loss 109.00, avg. ppl 556.08 cum. examples 10240, speed 265.63 words/sec, time elapsed 670.16 sec\n",
      "epoch 1, iter 330, avg. loss 117.53, avg. ppl 576.01 cum. examples 10560, speed 296.92 words/sec, time elapsed 690.09 sec\n",
      "epoch 1, iter 340, avg. loss 113.07, avg. ppl 537.52 cum. examples 10880, speed 255.77 words/sec, time elapsed 712.59 sec\n",
      "epoch 1, iter 350, avg. loss 112.87, avg. ppl 567.46 cum. examples 11200, speed 267.31 words/sec, time elapsed 733.90 sec\n",
      "epoch 1, iter 360, avg. loss 115.56, avg. ppl 564.05 cum. examples 11520, speed 270.25 words/sec, time elapsed 755.50 sec\n",
      "epoch 1, iter 370, avg. loss 107.07, avg. ppl 477.21 cum. examples 11840, speed 258.16 words/sec, time elapsed 777.02 sec\n",
      "epoch 1, iter 380, avg. loss 102.03, avg. ppl 529.15 cum. examples 12160, speed 273.37 words/sec, time elapsed 796.06 sec\n",
      "epoch 1, iter 390, avg. loss 116.24, avg. ppl 506.36 cum. examples 12480, speed 292.62 words/sec, time elapsed 816.47 sec\n",
      "epoch 1, iter 400, avg. loss 102.81, avg. ppl 471.25 cum. examples 12800, speed 242.15 words/sec, time elapsed 838.55 sec\n",
      "epoch 1, iter 410, avg. loss 108.78, avg. ppl 473.99 cum. examples 13120, speed 272.41 words/sec, time elapsed 859.29 sec\n",
      "epoch 1, iter 420, avg. loss 107.39, avg. ppl 453.37 cum. examples 13440, speed 257.71 words/sec, time elapsed 881.09 sec\n",
      "epoch 1, iter 430, avg. loss 105.24, avg. ppl 468.59 cum. examples 13760, speed 267.09 words/sec, time elapsed 901.59 sec\n",
      "epoch 1, iter 440, avg. loss 107.72, avg. ppl 451.58 cum. examples 14080, speed 297.60 words/sec, time elapsed 920.54 sec\n",
      "epoch 1, iter 450, avg. loss 108.45, avg. ppl 491.46 cum. examples 14400, speed 276.58 words/sec, time elapsed 940.78 sec\n",
      "epoch 1, iter 460, avg. loss 103.36, avg. ppl 452.64 cum. examples 14720, speed 278.73 words/sec, time elapsed 960.19 sec\n",
      "epoch 1, iter 470, avg. loss 113.25, avg. ppl 467.62 cum. examples 15040, speed 260.93 words/sec, time elapsed 982.78 sec\n",
      "epoch 1, iter 480, avg. loss 105.26, avg. ppl 407.33 cum. examples 15360, speed 231.06 words/sec, time elapsed 1007.04 sec\n",
      "epoch 1, iter 490, avg. loss 102.25, avg. ppl 439.34 cum. examples 15680, speed 246.57 words/sec, time elapsed 1028.85 sec\n",
      "epoch 1, iter 500, avg. loss 105.41, avg. ppl 453.08 cum. examples 16000, speed 261.60 words/sec, time elapsed 1049.93 sec\n",
      "epoch 1, iter 510, avg. loss 106.80, avg. ppl 404.18 cum. examples 16320, speed 269.46 words/sec, time elapsed 1071.06 sec\n",
      "epoch 1, iter 520, avg. loss 104.52, avg. ppl 444.28 cum. examples 16640, speed 256.32 words/sec, time elapsed 1092.46 sec\n",
      "epoch 1, iter 530, avg. loss 100.75, avg. ppl 383.63 cum. examples 16960, speed 263.86 words/sec, time elapsed 1113.00 sec\n",
      "epoch 1, iter 540, avg. loss 107.85, avg. ppl 396.33 cum. examples 17280, speed 279.18 words/sec, time elapsed 1133.66 sec\n",
      "epoch 1, iter 550, avg. loss 102.18, avg. ppl 369.01 cum. examples 17600, speed 267.54 words/sec, time elapsed 1154.34 sec\n",
      "epoch 1, iter 560, avg. loss 104.52, avg. ppl 402.23 cum. examples 17920, speed 271.66 words/sec, time elapsed 1174.87 sec\n",
      "epoch 1, iter 570, avg. loss 106.08, avg. ppl 402.87 cum. examples 18240, speed 268.64 words/sec, time elapsed 1195.94 sec\n",
      "epoch 1, iter 580, avg. loss 108.10, avg. ppl 433.13 cum. examples 18560, speed 260.33 words/sec, time elapsed 1217.82 sec\n",
      "epoch 1, iter 590, avg. loss 106.60, avg. ppl 395.98 cum. examples 18880, speed 267.71 words/sec, time elapsed 1239.13 sec\n",
      "epoch 1, iter 600, avg. loss 106.03, avg. ppl 387.53 cum. examples 19200, speed 298.41 words/sec, time elapsed 1258.20 sec\n",
      "epoch 1, iter 610, avg. loss 107.65, avg. ppl 401.53 cum. examples 19520, speed 244.10 words/sec, time elapsed 1281.74 sec\n",
      "epoch 1, iter 620, avg. loss 107.74, avg. ppl 348.47 cum. examples 19840, speed 291.69 words/sec, time elapsed 1301.94 sec\n",
      "epoch 1, iter 630, avg. loss 103.08, avg. ppl 369.99 cum. examples 20160, speed 261.02 words/sec, time elapsed 1323.31 sec\n",
      "epoch 1, iter 640, avg. loss 109.29, avg. ppl 381.72 cum. examples 20480, speed 276.52 words/sec, time elapsed 1344.58 sec\n",
      "epoch 1, iter 650, avg. loss 112.09, avg. ppl 400.76 cum. examples 20800, speed 263.01 words/sec, time elapsed 1367.34 sec\n",
      "epoch 1, iter 660, avg. loss 107.64, avg. ppl 373.22 cum. examples 21120, speed 285.15 words/sec, time elapsed 1387.73 sec\n",
      "epoch 1, iter 670, avg. loss 103.50, avg. ppl 351.33 cum. examples 21440, speed 283.45 words/sec, time elapsed 1407.67 sec\n"
     ]
    },
    {
     "name": "stdout",
     "output_type": "stream",
     "text": [
      "epoch 1, iter 680, avg. loss 107.50, avg. ppl 358.61 cum. examples 21760, speed 283.54 words/sec, time elapsed 1428.29 sec\n",
      "^C\n",
      "Traceback (most recent call last):\n",
      "  File \"run.py\", line 343, in <module>\n",
      "    main()\n",
      "  File \"run.py\", line 335, in main\n",
      "    train(args)\n",
      "  File \"run.py\", line 169, in train\n",
      "    loss.backward()\n",
      "  File \"/home/pedro/miniconda3/envs/natural-language-processing/lib/python3.6/site-packages/torch/tensor.py\", line 166, in backward\n",
      "    torch.autograd.backward(self, gradient, retain_graph, create_graph)\n",
      "  File \"/home/pedro/miniconda3/envs/natural-language-processing/lib/python3.6/site-packages/torch/autograd/__init__.py\", line 99, in backward\n",
      "    allow_unreachable=True)  # allow_unreachable flag\n",
      "KeyboardInterrupt\n"
     ]
    }
   ],
   "source": [
    "!sh run.sh train_local"
   ]
  },
  {
   "cell_type": "code",
   "execution_count": null,
   "metadata": {},
   "outputs": [],
   "source": [
    "!sh run.sh test_local"
   ]
  },
  {
   "cell_type": "code",
   "execution_count": null,
   "metadata": {},
   "outputs": [],
   "source": []
  },
  {
   "cell_type": "markdown",
   "metadata": {},
   "source": [
    "# Analyzing NMT Systems"
   ]
  },
  {
   "cell_type": "code",
   "execution_count": null,
   "metadata": {},
   "outputs": [],
   "source": []
  }
 ],
 "metadata": {
  "kernelspec": {
   "display_name": "Python 3",
   "language": "python",
   "name": "python3"
  },
  "language_info": {
   "codemirror_mode": {
    "name": "ipython",
    "version": 3
   },
   "file_extension": ".py",
   "mimetype": "text/x-python",
   "name": "python",
   "nbconvert_exporter": "python",
   "pygments_lexer": "ipython3",
   "version": "3.6.9"
  }
 },
 "nbformat": 4,
 "nbformat_minor": 4
}
